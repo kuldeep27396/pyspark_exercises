{
  "nbformat": 4,
  "nbformat_minor": 0,
  "metadata": {
    "colab": {
      "provenance": [],
      "mount_file_id": "1Fc4PxDj_bth-QCVxiVM9F58R-0rdQ-6n",
      "authorship_tag": "ABX9TyMrBH4u7UhmvG1Phjo6HL8N",
      "include_colab_link": true
    },
    "kernelspec": {
      "name": "python3",
      "display_name": "Python 3"
    },
    "language_info": {
      "name": "python"
    }
  },
  "cells": [
    {
      "cell_type": "markdown",
      "metadata": {
        "id": "view-in-github",
        "colab_type": "text"
      },
      "source": [
        "<a href=\"https://colab.research.google.com/github/kuldeep27396/pyspark_exercises/blob/master/pyspark_questions1.ipynb\" target=\"_parent\"><img src=\"https://colab.research.google.com/assets/colab-badge.svg\" alt=\"Open In Colab\"/></a>"
      ]
    },
    {
      "cell_type": "code",
      "execution_count": 1,
      "metadata": {
        "colab": {
          "base_uri": "https://localhost:8080/"
        },
        "id": "mYdlAeHdNmdK",
        "outputId": "fd218a47-9a35-4dbd-98e1-3674beddad8c"
      },
      "outputs": [
        {
          "output_type": "stream",
          "name": "stdout",
          "text": [
            "Collecting pyspark\n",
            "  Downloading pyspark-3.5.1.tar.gz (317.0 MB)\n",
            "\u001b[2K     \u001b[90m━━━━━━━━━━━━━━━━━━━━━━━━━━━━━━━━━━━━━━━━\u001b[0m \u001b[32m317.0/317.0 MB\u001b[0m \u001b[31m4.9 MB/s\u001b[0m eta \u001b[36m0:00:00\u001b[0m\n",
            "\u001b[?25h  Preparing metadata (setup.py) ... \u001b[?25l\u001b[?25hdone\n",
            "Requirement already satisfied: py4j==0.10.9.7 in /usr/local/lib/python3.10/dist-packages (from pyspark) (0.10.9.7)\n",
            "Building wheels for collected packages: pyspark\n",
            "  Building wheel for pyspark (setup.py) ... \u001b[?25l\u001b[?25hdone\n",
            "  Created wheel for pyspark: filename=pyspark-3.5.1-py2.py3-none-any.whl size=317488493 sha256=f5d0b9a86e9501bed5aa220aef8708a4403ed9f27902c3fe72efe035d2790472\n",
            "  Stored in directory: /root/.cache/pip/wheels/80/1d/60/2c256ed38dddce2fdd93be545214a63e02fbd8d74fb0b7f3a6\n",
            "Successfully built pyspark\n",
            "Installing collected packages: pyspark\n",
            "Successfully installed pyspark-3.5.1\n"
          ]
        }
      ],
      "source": [
        "!pip install pyspark"
      ]
    },
    {
      "cell_type": "code",
      "source": [
        "from pyspark.sql import SparkSession\n",
        "from pyspark.sql.functions import when\n",
        "\n",
        "# Initialize Spark session\n",
        "spark = SparkSession.builder.appName(\"SCD_Type1\").getOrCreate()\n",
        "\n",
        "# Sample data\n",
        "data = [\n",
        "    (1, \"GC001\", \"Active\"),\n",
        "    (2, \"GC002\", \"Active\"),\n",
        "    (3, \"GC003\", \"Expired\")\n",
        "]\n",
        "\n",
        "columns = [\"id\", \"gift_card_id\", \"status\"]\n",
        "\n",
        "df = spark.createDataFrame(data, columns)\n",
        "df.show(5)\n"
      ],
      "metadata": {
        "colab": {
          "base_uri": "https://localhost:8080/"
        },
        "id": "Fgsb3-KGNrG1",
        "outputId": "e0ed697f-942b-4e0d-cdc6-a87f8036f6d7"
      },
      "execution_count": 3,
      "outputs": [
        {
          "output_type": "stream",
          "name": "stdout",
          "text": [
            "+---+------------+-------+\n",
            "| id|gift_card_id| status|\n",
            "+---+------------+-------+\n",
            "|  1|       GC001| Active|\n",
            "|  2|       GC002| Active|\n",
            "|  3|       GC003|Expired|\n",
            "+---+------------+-------+\n",
            "\n"
          ]
        }
      ]
    },
    {
      "cell_type": "code",
      "source": [
        "\n",
        "# Assume the status of GC002 changes to Blocked\n",
        "updated_data = [(2, \"GC002\", \"Blocked\")]\n",
        "\n",
        "df_update = spark.createDataFrame(updated_data, columns)\n",
        "\n",
        "# Perform SCD Type 1 (overwrite)\n",
        "df_scd1 = df.join(df_update, on=\"gift_card_id\", how=\"left\")\\\n",
        "    .select(df[\"id\"], df[\"gift_card_id\"],\n",
        "            when(df_update[\"status\"].isNotNull(), df_update[\"status\"]).otherwise(df[\"status\"]).alias(\"status\"))\n",
        "\n",
        "df_scd1.show()"
      ],
      "metadata": {
        "colab": {
          "base_uri": "https://localhost:8080/"
        },
        "id": "F8e5-mcFOo7o",
        "outputId": "501ec963-603a-4b0d-e711-def3a2a26ffa"
      },
      "execution_count": 4,
      "outputs": [
        {
          "output_type": "stream",
          "name": "stdout",
          "text": [
            "+---+------------+-------+\n",
            "| id|gift_card_id| status|\n",
            "+---+------------+-------+\n",
            "|  1|       GC001| Active|\n",
            "|  3|       GC003|Expired|\n",
            "|  2|       GC002|Blocked|\n",
            "+---+------------+-------+\n",
            "\n"
          ]
        }
      ]
    },
    {
      "cell_type": "code",
      "source": [
        "from pyspark.sql.functions import lit, col, max\n",
        "\n",
        "# Sample data with versioning\n",
        "data_scd2 = [\n",
        "    (1, \"GC001\", \"Active\", 1),\n",
        "    (2, \"GC002\", \"Active\", 1),\n",
        "    (3, \"GC003\", \"Expired\", 1)\n",
        "]\n",
        "\n",
        "columns_scd2 = [\"id\", \"gift_card_id\", \"status\", \"version\"]\n",
        "\n",
        "df_scd2 = spark.createDataFrame(data_scd2, columns_scd2)\n",
        "\n",
        "# Assume the status of GC002 changes to Blocked\n",
        "updated_data_scd2 = [(2, \"GC002\", \"Blocked\", 2)]\n",
        "\n",
        "df_update_scd2 = spark.createDataFrame(updated_data_scd2, columns_scd2)\n",
        "\n",
        "# Perform SCD Type 2 (add new row)\n",
        "df_scd2_final = df_scd2.union(df_update_scd2)\n",
        "\n",
        "df_scd2_final.show()\n"
      ],
      "metadata": {
        "colab": {
          "base_uri": "https://localhost:8080/"
        },
        "id": "mJEGGFk7Ox20",
        "outputId": "72cbf256-e8b4-4ff1-b47d-923c561745fd"
      },
      "execution_count": 5,
      "outputs": [
        {
          "output_type": "stream",
          "name": "stdout",
          "text": [
            "+---+------------+-------+-------+\n",
            "| id|gift_card_id| status|version|\n",
            "+---+------------+-------+-------+\n",
            "|  1|       GC001| Active|      1|\n",
            "|  2|       GC002| Active|      1|\n",
            "|  3|       GC003|Expired|      1|\n",
            "|  2|       GC002|Blocked|      2|\n",
            "+---+------------+-------+-------+\n",
            "\n"
          ]
        }
      ]
    },
    {
      "cell_type": "code",
      "source": [
        "from pyspark.sql.types import StructType, StructField, IntegerType, StringType\n",
        "from pyspark.sql import SparkSession\n",
        "\n",
        "# Define the schema explicitly\n",
        "schema_scd3 = StructType([\n",
        "    StructField(\"id\", IntegerType(), True),\n",
        "    StructField(\"gift_card_id\", StringType(), True),\n",
        "    StructField(\"status\", StringType(), True),\n",
        "    StructField(\"previous_status\", StringType(), True)  # Explicitly defining the type of previous_status\n",
        "])\n",
        "\n",
        "# Sample data with previous status\n",
        "data_scd3 = [\n",
        "    (1, \"GC001\", \"Active\", None),\n",
        "    (2, \"GC002\", \"Active\", None),\n",
        "    (3, \"GC003\", \"Expired\", None)\n",
        "]\n",
        "\n",
        "# Create DataFrame with the explicit schema\n",
        "df_scd3 = spark.createDataFrame(data_scd3, schema=schema_scd3)\n",
        "\n",
        "# Assume the status of GC002 changes to Blocked\n",
        "updated_data_scd3 = [(2, \"GC002\", \"Blocked\", \"Active\")]\n",
        "\n",
        "# Create DataFrame for updated data with the same schema\n",
        "df_update_scd3 = spark.createDataFrame(updated_data_scd3, schema=schema_scd3)\n",
        "\n",
        "# Perform SCD Type 3 (add new column for previous status)\n",
        "df_scd3_final = df_scd3.join(df_update_scd3, on=\"gift_card_id\", how=\"left\")\\\n",
        "    .select(\n",
        "        df_scd3[\"id\"],\n",
        "        df_scd3[\"gift_card_id\"],\n",
        "        coalesce(df_update_scd3[\"status\"], df_scd3[\"status\"]).alias(\"status\"),\n",
        "        coalesce(df_update_scd3[\"previous_status\"], df_scd3[\"previous_status\"]).alias(\"previous_status\")\n",
        "    )\n",
        "\n",
        "df_scd3_final.show()\n"
      ],
      "metadata": {
        "colab": {
          "base_uri": "https://localhost:8080/"
        },
        "id": "4Fh9oTrrPzRA",
        "outputId": "7ce59d22-0e79-4044-de6e-c2f10bd0434f"
      },
      "execution_count": 10,
      "outputs": [
        {
          "output_type": "stream",
          "name": "stdout",
          "text": [
            "+---+------------+-------+---------------+\n",
            "| id|gift_card_id| status|previous_status|\n",
            "+---+------------+-------+---------------+\n",
            "|  1|       GC001| Active|           NULL|\n",
            "|  3|       GC003|Expired|           NULL|\n",
            "|  2|       GC002|Blocked|         Active|\n",
            "+---+------------+-------+---------------+\n",
            "\n"
          ]
        }
      ]
    },
    {
      "cell_type": "code",
      "source": [
        "# Sample current table data\n",
        "data_current = [\n",
        "    (1, \"GC001\", \"Active\"),\n",
        "    (2, \"GC002\", \"Active\"),\n",
        "    (3, \"GC003\", \"Expired\")\n",
        "]\n",
        "\n",
        "# Sample historical table data\n",
        "data_history = [\n",
        "    (1, \"GC002\", \"Active\"),\n",
        "    (2, \"GC003\", \"Active\")\n",
        "]\n",
        "\n",
        "columns_current = [\"id\", \"gift_card_id\", \"status\"]\n",
        "columns_history = [\"id\", \"gift_card_id\", \"status\"]\n",
        "\n",
        "df_current = spark.createDataFrame(data_current, columns_current)\n",
        "df_history = spark.createDataFrame(data_history, columns_history)\n",
        "\n",
        "# Assume the status of GC002 changes to Blocked\n",
        "updated_data_current = [(2, \"GC002\", \"Blocked\")]\n",
        "\n",
        "df_update_current = spark.createDataFrame(updated_data_current, columns_current)\n",
        "\n",
        "# Perform SCD Type 4 (add to history, update current)\n",
        "df_history_final = df_history.union(df_current.filter(col(\"gift_card_id\") == \"GC002\"))\n",
        "df_current_final = df_current.join(df_update_current, on=\"gift_card_id\", how=\"left\")\\\n",
        "    .select(df_current[\"id\"], df_current[\"gift_card_id\"],\n",
        "            coalesce(df_update_current[\"status\"], df_current[\"status\"]).alias(\"status\"))\n",
        "\n",
        "df_history_final.show()\n",
        "df_current_final.show()\n"
      ],
      "metadata": {
        "colab": {
          "base_uri": "https://localhost:8080/"
        },
        "id": "xBQUlho3RQUM",
        "outputId": "9a9b1599-d538-4a93-8188-a379be2e3fd5"
      },
      "execution_count": 11,
      "outputs": [
        {
          "output_type": "stream",
          "name": "stdout",
          "text": [
            "+---+------------+------+\n",
            "| id|gift_card_id|status|\n",
            "+---+------------+------+\n",
            "|  1|       GC002|Active|\n",
            "|  2|       GC003|Active|\n",
            "|  2|       GC002|Active|\n",
            "+---+------------+------+\n",
            "\n",
            "+---+------------+-------+\n",
            "| id|gift_card_id| status|\n",
            "+---+------------+-------+\n",
            "|  1|       GC001| Active|\n",
            "|  3|       GC003|Expired|\n",
            "|  2|       GC002|Blocked|\n",
            "+---+------------+-------+\n",
            "\n"
          ]
        }
      ]
    },
    {
      "cell_type": "code",
      "source": [
        "# Sample dimension table data\n",
        "data_dim = [\n",
        "    (1, \"GC001\", \"Active\", 1),\n",
        "    (2, \"GC002\", \"Active\", 1)\n",
        "]\n",
        "\n",
        "columns_dim = [\"id\", \"gift_card_id\", \"status\", \"surrogate_key\"]\n",
        "\n",
        "df_dim = spark.createDataFrame(data_dim, columns_dim)\n",
        "\n",
        "# Perform SCD Type 5 (combining Type 1 and Type 4)\n",
        "df_dim_scd5 = df_dim.withColumn(\"surrogate_key\", col(\"surrogate_key\") + 1)\n",
        "\n",
        "df_dim_scd5.show()\n"
      ],
      "metadata": {
        "colab": {
          "base_uri": "https://localhost:8080/"
        },
        "id": "Ds6MjoU2RSCa",
        "outputId": "5339aa89-6d04-4621-8943-c689523267ed"
      },
      "execution_count": 12,
      "outputs": [
        {
          "output_type": "stream",
          "name": "stdout",
          "text": [
            "+---+------------+------+-------------+\n",
            "| id|gift_card_id|status|surrogate_key|\n",
            "+---+------------+------+-------------+\n",
            "|  1|       GC001|Active|            2|\n",
            "|  2|       GC002|Active|            2|\n",
            "+---+------------+------+-------------+\n",
            "\n"
          ]
        }
      ]
    },
    {
      "cell_type": "code",
      "source": [
        "from pyspark.sql.functions import row_number\n",
        "from pyspark.sql.window import Window\n",
        "\n",
        "# Sample data\n",
        "data_scd6 = [\n",
        "    (1, \"GC001\", \"Active\", \"None\", 1),\n",
        "    (2, \"GC002\", \"Active\", \"None\", 1),\n",
        "    (3, \"GC003\", \"Expired\", \"None\", 1)\n",
        "]\n",
        "\n",
        "columns_scd6 = [\"id\", \"gift_card_id\", \"status\", \"previous_status\", \"version\"]\n",
        "\n",
        "df_scd6 = spark.createDataFrame(data_scd6, columns_scd6)\n",
        "\n",
        "# Assume the status of GC002 changes to Blocked\n",
        "updated_data_scd6 = [(2, \"GC002\", \"Blocked\", \"Active\", 2)]\n",
        "\n",
        "df_update_scd6 = spark.createDataFrame(updated_data_scd6, columns_scd6)\n",
        "\n",
        "# Perform SCD Type 6 (hybrid approach)\n",
        "df_scd6_final = df_scd6.union(df_update_scd6)\\\n",
        "    .withColumn(\"row_num\", row_number().over(Window.partitionBy(\"gift_card_id\").orderBy(col(\"version\").desc())))\\\n",
        "    .filter(col(\"row_num\") == 1)\\\n",
        "    .drop(\"row_num\")\n",
        "\n",
        "df_scd6_final.show()\n"
      ],
      "metadata": {
        "colab": {
          "base_uri": "https://localhost:8080/"
        },
        "id": "t2AIpFXLRcPD",
        "outputId": "5486761f-b1ea-4480-afdb-f207ec52a223"
      },
      "execution_count": 14,
      "outputs": [
        {
          "output_type": "stream",
          "name": "stdout",
          "text": [
            "+---+------------+-------+---------------+-------+\n",
            "| id|gift_card_id| status|previous_status|version|\n",
            "+---+------------+-------+---------------+-------+\n",
            "|  1|       GC001| Active|           None|      1|\n",
            "|  2|       GC002|Blocked|         Active|      2|\n",
            "|  3|       GC003|Expired|           None|      1|\n",
            "+---+------------+-------+---------------+-------+\n",
            "\n"
          ]
        }
      ]
    },
    {
      "cell_type": "code",
      "source": [
        "from pyspark.sql import SparkSession\n",
        "from pyspark.sql.functions import explode, col\n",
        "\n",
        "# Initialize Spark session\n",
        "spark = SparkSession.builder.appName(\"InsuranceFraudDetection\").getOrCreate()\n",
        "\n",
        "# Sample JSON data\n",
        "json_data = '''\n",
        "[\n",
        "    {\n",
        "        \"claim_number\": \"CLM001\",\n",
        "        \"policy_holder\": \"John Doe\",\n",
        "        \"claim_date\": \"2024-08-01\",\n",
        "        \"contacts\": {\n",
        "            \"primary_contact\": {\n",
        "                \"name\": \"John Doe\",\n",
        "                \"phone\": \"123-456-7890\",\n",
        "                \"email\": \"john.doe@example.com\"\n",
        "            },\n",
        "            \"secondary_contact\": {\n",
        "                \"name\": \"Jane Doe\",\n",
        "                \"phone\": \"987-654-3210\",\n",
        "                \"email\": \"jane.doe@example.com\"\n",
        "            }\n",
        "        },\n",
        "        \"items_bought\": [\n",
        "            {\n",
        "                \"item_id\": \"ITM001\",\n",
        "                \"item_name\": \"Laptop\",\n",
        "                \"quantity\": 1,\n",
        "                \"price\": 1200.00\n",
        "            },\n",
        "            {\n",
        "                \"item_id\": \"ITM002\",\n",
        "                \"item_name\": \"Smartphone\",\n",
        "                \"quantity\": 2,\n",
        "                \"price\": 800.00\n",
        "            }\n",
        "        ]\n",
        "    },\n",
        "    {\n",
        "        \"claim_number\": \"CLM002\",\n",
        "        \"policy_holder\": \"Alice Smith\",\n",
        "        \"claim_date\": \"2024-08-02\",\n",
        "        \"contacts\": {\n",
        "            \"primary_contact\": {\n",
        "                \"name\": \"Alice Smith\",\n",
        "                \"phone\": \"555-123-4567\",\n",
        "                \"email\": \"alice.smith@example.com\"\n",
        "            },\n",
        "            \"secondary_contact\": {\n",
        "                \"name\": \"Bob Smith\",\n",
        "                \"phone\": \"555-987-6543\",\n",
        "                \"email\": \"bob.smith@example.com\"\n",
        "            }\n",
        "        },\n",
        "        \"items_bought\": [\n",
        "            {\n",
        "                \"item_id\": \"ITM003\",\n",
        "                \"item_name\": \"Tablet\",\n",
        "                \"quantity\": 1,\n",
        "                \"price\": 600.00\n",
        "            }\n",
        "        ]\n",
        "    }\n",
        "]\n",
        "'''\n",
        "\n",
        "# Read JSON from the string\n",
        "df = spark.read.json(spark.sparkContext.parallelize([json_data]))\n",
        "\n",
        "# Display the DataFrame\n",
        "df.show(truncate=False)\n",
        "\n",
        "\n"
      ],
      "metadata": {
        "colab": {
          "base_uri": "https://localhost:8080/"
        },
        "id": "JNRJYhS_Rjpi",
        "outputId": "fdc11fc4-fe7a-43b9-c5af-969056fe7c7a"
      },
      "execution_count": 17,
      "outputs": [
        {
          "output_type": "stream",
          "name": "stdout",
          "text": [
            "+----------+------------+--------------------------------------------------------------------------------------------------------+-------------------------------------------------------------+-------------+\n",
            "|claim_date|claim_number|contacts                                                                                                |items_bought                                                 |policy_holder|\n",
            "+----------+------------+--------------------------------------------------------------------------------------------------------+-------------------------------------------------------------+-------------+\n",
            "|2024-08-01|CLM001      |{{john.doe@example.com, John Doe, 123-456-7890}, {jane.doe@example.com, Jane Doe, 987-654-3210}}        |[{ITM001, Laptop, 1200.0, 1}, {ITM002, Smartphone, 800.0, 2}]|John Doe     |\n",
            "|2024-08-02|CLM002      |{{alice.smith@example.com, Alice Smith, 555-123-4567}, {bob.smith@example.com, Bob Smith, 555-987-6543}}|[{ITM003, Tablet, 600.0, 1}]                                 |Alice Smith  |\n",
            "+----------+------------+--------------------------------------------------------------------------------------------------------+-------------------------------------------------------------+-------------+\n",
            "\n"
          ]
        }
      ]
    },
    {
      "cell_type": "code",
      "source": [
        "# Flatten the contacts field\n",
        "df_contacts = df.select(\n",
        "    col(\"claim_number\"),\n",
        "    col(\"policy_holder\"),\n",
        "    col(\"claim_date\"),\n",
        "    col(\"contacts.primary_contact.name\").alias(\"primary_contact_name\"),\n",
        "    col(\"contacts.primary_contact.phone\").alias(\"primary_contact_phone\"),\n",
        "    col(\"contacts.primary_contact.email\").alias(\"primary_contact_email\"),\n",
        "    col(\"contacts.secondary_contact.name\").alias(\"secondary_contact_name\"),\n",
        "    col(\"contacts.secondary_contact.phone\").alias(\"secondary_contact_phone\"),\n",
        "    col(\"contacts.secondary_contact.email\").alias(\"secondary_contact_email\")\n",
        ")\n",
        "\n",
        "df_contacts.show(truncate=False)\n"
      ],
      "metadata": {
        "colab": {
          "base_uri": "https://localhost:8080/"
        },
        "id": "ZWi1NKasThSq",
        "outputId": "1bbb71ec-51fc-4dd4-ead2-151fd1ccd024"
      },
      "execution_count": 18,
      "outputs": [
        {
          "output_type": "stream",
          "name": "stdout",
          "text": [
            "+------------+-------------+----------+--------------------+---------------------+-----------------------+----------------------+-----------------------+-----------------------+\n",
            "|claim_number|policy_holder|claim_date|primary_contact_name|primary_contact_phone|primary_contact_email  |secondary_contact_name|secondary_contact_phone|secondary_contact_email|\n",
            "+------------+-------------+----------+--------------------+---------------------+-----------------------+----------------------+-----------------------+-----------------------+\n",
            "|CLM001      |John Doe     |2024-08-01|John Doe            |123-456-7890         |john.doe@example.com   |Jane Doe              |987-654-3210           |jane.doe@example.com   |\n",
            "|CLM002      |Alice Smith  |2024-08-02|Alice Smith         |555-123-4567         |alice.smith@example.com|Bob Smith             |555-987-6543           |bob.smith@example.com  |\n",
            "+------------+-------------+----------+--------------------+---------------------+-----------------------+----------------------+-----------------------+-----------------------+\n",
            "\n"
          ]
        }
      ]
    },
    {
      "cell_type": "code",
      "source": [
        "# Explode the items_bought field\n",
        "df_items = df.select(\n",
        "    col(\"claim_number\"),\n",
        "    col(\"policy_holder\"),\n",
        "    col(\"claim_date\"),\n",
        "    explode(\"items_bought\").alias(\"item\")\n",
        ").select(\n",
        "    col(\"claim_number\"),\n",
        "    col(\"policy_holder\"),\n",
        "    col(\"claim_date\"),\n",
        "    col(\"item.item_id\").alias(\"item_id\"),\n",
        "    col(\"item.item_name\").alias(\"item_name\"),\n",
        "    col(\"item.quantity\").alias(\"quantity\"),\n",
        "    col(\"item.price\").alias(\"price\")\n",
        ")\n",
        "\n",
        "df_items.show(truncate=False)\n"
      ],
      "metadata": {
        "colab": {
          "base_uri": "https://localhost:8080/"
        },
        "id": "jEWOX4rlTjqM",
        "outputId": "983a0947-b9ed-4a43-acbf-115770e8fcf5"
      },
      "execution_count": 19,
      "outputs": [
        {
          "output_type": "stream",
          "name": "stdout",
          "text": [
            "+------------+-------------+----------+-------+----------+--------+------+\n",
            "|claim_number|policy_holder|claim_date|item_id|item_name |quantity|price |\n",
            "+------------+-------------+----------+-------+----------+--------+------+\n",
            "|CLM001      |John Doe     |2024-08-01|ITM001 |Laptop    |1       |1200.0|\n",
            "|CLM001      |John Doe     |2024-08-01|ITM002 |Smartphone|2       |800.0 |\n",
            "|CLM002      |Alice Smith  |2024-08-02|ITM003 |Tablet    |1       |600.0 |\n",
            "+------------+-------------+----------+-------+----------+--------+------+\n",
            "\n"
          ]
        }
      ]
    },
    {
      "cell_type": "code",
      "source": [],
      "metadata": {
        "id": "nAAnR7auTnAS"
      },
      "execution_count": null,
      "outputs": []
    }
  ]
}